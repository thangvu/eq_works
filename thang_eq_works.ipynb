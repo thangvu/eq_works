{
 "cells": [
  {
   "cell_type": "code",
   "execution_count": 2,
   "metadata": {},
   "outputs": [],
   "source": [
    "from pyspark.sql import SparkSession\n",
    "import shlex\n",
    "import datetime\n",
    "import dateutil\n",
    "from pyspark.sql.functions import udf\n",
    "from pyspark.sql.types import ArrayType\n",
    "from pyspark.sql.types import StringType\n",
    "from pyspark.sql.types import *\n",
    "from pyspark.sql import Row \n",
    "from pyspark.sql.functions import col"
   ]
  },
  {
   "cell_type": "code",
   "execution_count": 3,
   "metadata": {},
   "outputs": [],
   "source": [
    "import pandas as pd\n",
    "from pyspark.sql import functions as F\n",
    "from math import sqrt"
   ]
  },
  {
   "cell_type": "code",
   "execution_count": 49,
   "metadata": {},
   "outputs": [],
   "source": [
    "from math import sqrt"
   ]
  },
  {
   "cell_type": "code",
   "execution_count": 4,
   "metadata": {},
   "outputs": [],
   "source": [
    "from pyspark.sql import SparkSession\n",
    "spark = SparkSession.builder.appName(\"EQTaskWorker\").getOrCreate()"
   ]
  },
  {
   "cell_type": "code",
   "execution_count": 9,
   "metadata": {},
   "outputs": [],
   "source": [
    "df = spark.read.load('/works/congviec/EQ_works/ws-data-spark-master/data/DataSample.csv',\n",
    "                     format=\"csv\", sep=\",\", inferSchema=\"true\", header=\"true\")"
   ]
  },
  {
   "cell_type": "code",
   "execution_count": 10,
   "metadata": {},
   "outputs": [
    {
     "data": {
      "text/plain": [
       "Row(_ID=4516516,  TimeSt=datetime.datetime(2017, 6, 21, 0, 0, 0, 143000), Country='CA', Province='ON', City='Waterloo', Latitude=43.49347, Longitude=-80.49123)"
      ]
     },
     "execution_count": 10,
     "metadata": {},
     "output_type": "execute_result"
    }
   ],
   "source": [
    "df.first()"
   ]
  },
  {
   "cell_type": "code",
   "execution_count": 11,
   "metadata": {},
   "outputs": [
    {
     "name": "stdout",
     "output_type": "stream",
     "text": [
      "root\n",
      " |-- _ID: integer (nullable = true)\n",
      " |--  TimeSt: timestamp (nullable = true)\n",
      " |-- Country: string (nullable = true)\n",
      " |-- Province: string (nullable = true)\n",
      " |-- City: string (nullable = true)\n",
      " |-- Latitude: double (nullable = true)\n",
      " |-- Longitude: double (nullable = true)\n",
      "\n"
     ]
    }
   ],
   "source": [
    "df.printSchema()"
   ]
  },
  {
   "cell_type": "code",
   "execution_count": 9,
   "metadata": {},
   "outputs": [
    {
     "data": {
      "text/plain": [
       "22025"
      ]
     },
     "execution_count": 9,
     "metadata": {},
     "output_type": "execute_result"
    }
   ],
   "source": [
    "df.count()"
   ]
  },
  {
   "cell_type": "code",
   "execution_count": 12,
   "metadata": {},
   "outputs": [],
   "source": [
    "#Correct the column \" TimeSt\"\n",
    "df=df.select(col(\"_ID\").alias(\"_ID\"),col(\" TimeSt\").alias(\"TimeSt\"),\n",
    "             col(\"Country\").alias(\"Country\"),col(\"City\").alias(\"City\"),col(\"Latitude\").alias(\"Latitude\"),col(\"Longitude\").alias(\"Longitude\"))"
   ]
  },
  {
   "cell_type": "code",
   "execution_count": 13,
   "metadata": {},
   "outputs": [
    {
     "name": "stdout",
     "output_type": "stream",
     "text": [
      "root\n",
      " |-- _ID: integer (nullable = true)\n",
      " |-- TimeSt: timestamp (nullable = true)\n",
      " |-- Country: string (nullable = true)\n",
      " |-- City: string (nullable = true)\n",
      " |-- Latitude: double (nullable = true)\n",
      " |-- Longitude: double (nullable = true)\n",
      "\n"
     ]
    }
   ],
   "source": [
    "df.printSchema()"
   ]
  },
  {
   "cell_type": "markdown",
   "metadata": {},
   "source": [
    "# Cleaning duplicates"
   ]
  },
  {
   "cell_type": "code",
   "execution_count": 10,
   "metadata": {},
   "outputs": [
    {
     "data": {
      "text/plain": [
       "22025"
      ]
     },
     "execution_count": 10,
     "metadata": {},
     "output_type": "execute_result"
    }
   ],
   "source": [
    "#Before dropping dup\n",
    "df.count()"
   ]
  },
  {
   "cell_type": "code",
   "execution_count": 14,
   "metadata": {},
   "outputs": [],
   "source": [
    "#Drop rows if duplicate on TimeSt, Latitude and Longitude\n",
    "clean_df=df.dropDuplicates([\"TimeSt\",\"Latitude\",\"Longitude\"])"
   ]
  },
  {
   "cell_type": "code",
   "execution_count": 15,
   "metadata": {},
   "outputs": [
    {
     "data": {
      "text/plain": [
       "19999"
      ]
     },
     "execution_count": 15,
     "metadata": {},
     "output_type": "execute_result"
    }
   ],
   "source": [
    "clean_df.count()"
   ]
  },
  {
   "cell_type": "code",
   "execution_count": 16,
   "metadata": {},
   "outputs": [
    {
     "name": "stdout",
     "output_type": "stream",
     "text": [
      "+-------+-----------------+\n",
      "|summary|         Latitude|\n",
      "+-------+-----------------+\n",
      "|  count|            19999|\n",
      "|   mean|47.98420511275566|\n",
      "| stddev|4.154438211714902|\n",
      "|    min|          6.92742|\n",
      "|    max|          62.8273|\n",
      "+-------+-----------------+\n",
      "\n",
      "+-------+------------------+\n",
      "|summary|         Longitude|\n",
      "+-------+------------------+\n",
      "|  count|             19999|\n",
      "|   mean|-95.00772385069244|\n",
      "| stddev| 19.03353047478451|\n",
      "|    min|        -136.53957|\n",
      "|    max|          125.7022|\n",
      "+-------+------------------+\n",
      "\n"
     ]
    }
   ],
   "source": [
    "clean_df.select(['Latitude']).describe().show()\n",
    "clean_df.select(['Longitude']).describe().show()"
   ]
  },
  {
   "cell_type": "markdown",
   "metadata": {},
   "source": [
    "# Labelling"
   ]
  },
  {
   "cell_type": "code",
   "execution_count": 22,
   "metadata": {},
   "outputs": [],
   "source": [
    "#POI data\n",
    "poi_df = spark.read.load('data/POIList.csv',format=\"csv\", sep=\",\", inferSchema=\"true\", header=\"true\")"
   ]
  },
  {
   "cell_type": "code",
   "execution_count": 18,
   "metadata": {},
   "outputs": [
    {
     "name": "stdout",
     "output_type": "stream",
     "text": [
      "4\n",
      "root\n",
      " |-- POIID: string (nullable = true)\n",
      " |--  Latitude: double (nullable = true)\n",
      " |-- Longitude: double (nullable = true)\n",
      "\n"
     ]
    }
   ],
   "source": [
    "print(poi_df.count())\n",
    "poi_df.printSchema()"
   ]
  },
  {
   "cell_type": "code",
   "execution_count": 24,
   "metadata": {},
   "outputs": [
    {
     "data": {
      "text/plain": [
       "[Row(POIID='POI1',  Latitude=53.546167, Longitude=-113.485734),\n",
       " Row(POIID='POI3',  Latitude=45.521629, Longitude=-73.566024),\n",
       " Row(POIID='POI4',  Latitude=45.22483, Longitude=-63.232729)]"
      ]
     },
     "execution_count": 24,
     "metadata": {},
     "output_type": "execute_result"
    }
   ],
   "source": [
    "poi_df.head(4)"
   ]
  },
  {
   "cell_type": "code",
   "execution_count": 16,
   "metadata": {},
   "outputs": [
    {
     "name": "stdout",
     "output_type": "stream",
     "text": [
      "root\n",
      " |-- POIID: string (nullable = true)\n",
      " |-- Latitude: double (nullable = true)\n",
      " |-- Longitude: double (nullable = true)\n",
      "\n"
     ]
    }
   ],
   "source": [
    "poi_df=poi_df.select(col('POIID').alias('POIID'),col(' Latitude').alias('Latitude'),col('Longitude').alias('Longitude'))\n",
    "poi_df.printSchema()"
   ]
  },
  {
   "cell_type": "code",
   "execution_count": 23,
   "metadata": {},
   "outputs": [],
   "source": [
    "# remove POI2 as its latitude and longitude are identical to POI1\n",
    "poi_df=poi_df.filter(col('POIID')!='POI2')"
   ]
  },
  {
   "cell_type": "code",
   "execution_count": 26,
   "metadata": {},
   "outputs": [],
   "source": [
    "poi_df_pandas=pd.DataFrame(poi_df.collect(),columns=['POIID','Latitude','Longitude'])"
   ]
  },
  {
   "cell_type": "code",
   "execution_count": 27,
   "metadata": {},
   "outputs": [
    {
     "data": {
      "text/html": [
       "<div>\n",
       "<style scoped>\n",
       "    .dataframe tbody tr th:only-of-type {\n",
       "        vertical-align: middle;\n",
       "    }\n",
       "\n",
       "    .dataframe tbody tr th {\n",
       "        vertical-align: top;\n",
       "    }\n",
       "\n",
       "    .dataframe thead th {\n",
       "        text-align: right;\n",
       "    }\n",
       "</style>\n",
       "<table border=\"1\" class=\"dataframe\">\n",
       "  <thead>\n",
       "    <tr style=\"text-align: right;\">\n",
       "      <th></th>\n",
       "      <th>POIID</th>\n",
       "      <th>Latitude</th>\n",
       "      <th>Longitude</th>\n",
       "    </tr>\n",
       "  </thead>\n",
       "  <tbody>\n",
       "    <tr>\n",
       "      <th>0</th>\n",
       "      <td>POI1</td>\n",
       "      <td>53.546167</td>\n",
       "      <td>-113.485734</td>\n",
       "    </tr>\n",
       "    <tr>\n",
       "      <th>1</th>\n",
       "      <td>POI3</td>\n",
       "      <td>45.521629</td>\n",
       "      <td>-73.566024</td>\n",
       "    </tr>\n",
       "    <tr>\n",
       "      <th>2</th>\n",
       "      <td>POI4</td>\n",
       "      <td>45.224830</td>\n",
       "      <td>-63.232729</td>\n",
       "    </tr>\n",
       "  </tbody>\n",
       "</table>\n",
       "</div>"
      ],
      "text/plain": [
       "  POIID   Latitude   Longitude\n",
       "0  POI1  53.546167 -113.485734\n",
       "1  POI3  45.521629  -73.566024\n",
       "2  POI4  45.224830  -63.232729"
      ]
     },
     "execution_count": 27,
     "metadata": {},
     "output_type": "execute_result"
    }
   ],
   "source": [
    "poi_df_pandas.head(4)"
   ]
  },
  {
   "cell_type": "code",
   "execution_count": 28,
   "metadata": {},
   "outputs": [],
   "source": [
    "def get_closest_POI(lat,long):\n",
    "    #Assume collect_poi_df is a broacast variable and locally available when running this on a cluster.\n",
    "    tmp=pd.DataFrame()\n",
    "    tmp['POIID']=poi_df_pandas['POIID']\n",
    "    tmp['dis']=pow((poi_df_pandas['Latitude']-lat),2)+pow((poi_df_pandas['Longitude']-long),2)\n",
    "    tmp=tmp.sort_values(by=['dis'])\n",
    "    return tmp['POIID'].iloc[0]\n",
    "get_closest_POI_udf=udf(get_closest_POI,StringType())"
   ]
  },
  {
   "cell_type": "code",
   "execution_count": 29,
   "metadata": {},
   "outputs": [],
   "source": [
    "ret_schema = StructType([\n",
    "    StructField(\"dis\",DoubleType(), False),\n",
    "    StructField(\"POIID\",StringType(), False)\n",
    "])"
   ]
  },
  {
   "cell_type": "code",
   "execution_count": 30,
   "metadata": {},
   "outputs": [],
   "source": [
    "def v2_get_closest_POI(lat,long):\n",
    "    #Assume collect_poi_df is a broacast variable and locally available when running this on a cluster.\n",
    "    tmp=pd.DataFrame()\n",
    "    tmp['POIID']=poi_df_pandas['POIID']\n",
    "    tmp['dis']=(pow((poi_df_pandas['Latitude']-lat),2)+pow((poi_df_pandas['Longitude']-long),2))\n",
    "    tmp=tmp.sort_values(by=['dis'])\n",
    "    #return (tmp['dis'].iloc[0],tmp['POIID'].iloc[0])\n",
    "    return Row('dis','POI')(float(tmp['dis'].iloc[0]),tmp['POIID'].iloc[0])\n",
    "v2_get_closest_POI_udf=udf(v2_get_closest_POI,ret_schema)"
   ]
  },
  {
   "cell_type": "code",
   "execution_count": 31,
   "metadata": {},
   "outputs": [],
   "source": [
    "def dis(lat,long,poi):\n",
    "    tmp=poi_df_pandas[poi_df_pandas['POIID']==poi]\n",
    "    x=sqrt(pow((tmp['Latitude']-lat),2) + pow((tmp['Longitude']-long),2))\n",
    "    #print(type(x))\n",
    "    return x\n",
    "udf_dis=udf(dis,DoubleType())"
   ]
  },
  {
   "cell_type": "code",
   "execution_count": 35,
   "metadata": {},
   "outputs": [],
   "source": [
    "clean_df=clean_df.withColumn('udf_v2',v2_get_closest_POI_udf(clean_df['Latitude'],clean_df['Longitude']))\\\n",
    ".select(col(\"_ID\").alias(\"_ID\"),col(\"TimeSt\").alias(\"TimeSt\"),\n",
    "             col(\"Country\").alias(\"Country\"),col(\"City\").alias(\"City\"),col(\"Latitude\").alias(\"Latitude\"),\\\n",
    "        col(\"Longitude\").alias(\"Longitude\"),col(\"udf_v2.dis\").alias(\"POI_distance\"),col(\"udf_v2.POIID\").alias('closest_POIID'))"
   ]
  },
  {
   "cell_type": "code",
   "execution_count": 50,
   "metadata": {},
   "outputs": [],
   "source": [
    "def squared(x):\n",
    "    return sqrt(x)\n",
    "udf_squared=udf(squared,DoubleType())"
   ]
  },
  {
   "cell_type": "code",
   "execution_count": 51,
   "metadata": {
    "scrolled": true
   },
   "outputs": [],
   "source": [
    "clean_df=clean_df.withColumn('distance',udf_squared(clean_df['POI_distance']))"
   ]
  },
  {
   "cell_type": "code",
   "execution_count": 52,
   "metadata": {
    "scrolled": true
   },
   "outputs": [
    {
     "data": {
      "text/plain": [
       "[Row(_ID=4673153, TimeSt=datetime.datetime(2017, 6, 21, 0, 9, 6, 990000), Country='CA', City='Mississauga', Latitude=43.6618, Longitude=-79.7034, POI_distance=41.126348074617034, closest_POIID='POI3', distance=6.412982775169214),\n",
       " Row(_ID=4734463, TimeSt=datetime.datetime(2017, 6, 21, 0, 14, 7, 310000), Country='CA', City='Laval', Latitude=45.6323, Longitude=-73.7579, POI_distance=0.04906446961700374, closest_POIID='POI3', distance=0.2215050103654627),\n",
       " Row(_ID=4788835, TimeSt=datetime.datetime(2017, 6, 21, 0, 17, 54, 407000), Country='CA', City='London', Latitude=43.0004, Longitude=-81.2343, POI_distance=65.15905248261708, closest_POIID='POI3', distance=8.072115737687183),\n",
       " Row(_ID=5583424, TimeSt=datetime.datetime(2017, 6, 21, 0, 20, 14, 900000), Country='CA', City='Gatineau', Latitude=45.3944, Longitude=-75.8363, POI_distance=5.17034033461698, closest_POIID='POI3', distance=2.27383823844551),\n",
       " Row(_ID=5085849, TimeSt=datetime.datetime(2017, 6, 21, 0, 39, 54, 60000), Country='CA', City='Edmonton', Latitude=53.5185, Longitude=-113.6579, POI_distance=0.030406594445001132, closest_POIID='POI1', distance=0.17437486758418236),\n",
       " Row(_ID=5157889, TimeSt=datetime.datetime(2017, 6, 21, 0, 44, 43, 420000), Country='CA', City='Edmonton', Latitude=53.5178, Longitude=-113.552, POI_distance=0.00519586944500149, closest_POIID='POI1', distance=0.07208237957366204),\n",
       " Row(_ID=5017748, TimeSt=datetime.datetime(2017, 6, 21, 1, 34, 56, 873000), Country='CA', City='Mississauga', Latitude=43.59162, Longitude=-79.70651, POI_distance=41.43050305627694, closest_POIID='POI3', distance=6.436653094293411),\n",
       " Row(_ID=5185660, TimeSt=datetime.datetime(2017, 6, 21, 1, 46, 41, 827000), Country='CA', City='St-Gabriel-De-Kamouraska', Latitude=47.7987, Longitude=-69.2465, POI_distance=23.84333992561701, closest_POIID='POI3', distance=4.882964256024921),\n",
       " Row(_ID=4688073, TimeSt=datetime.datetime(2017, 6, 21, 2, 10, 32, 450000), Country='CA', City='Kitchener', Latitude=43.4381, Longitude=-80.5099, POI_distance=52.55850699721704, closest_POIID='POI3', distance=7.249724615267606),\n",
       " Row(_ID=4793093, TimeSt=datetime.datetime(2017, 6, 21, 2, 18, 13, 300000), Country='CA', City='Toronto', Latitude=43.66022, Longitude=-79.38541, POI_distance=37.33009688227691, closest_POIID='POI3', distance=6.109836076547137)]"
      ]
     },
     "execution_count": 52,
     "metadata": {},
     "output_type": "execute_result"
    }
   ],
   "source": [
    "clean_df.head(10)"
   ]
  },
  {
   "cell_type": "code",
   "execution_count": 38,
   "metadata": {},
   "outputs": [
    {
     "name": "stdout",
     "output_type": "stream",
     "text": [
      "+-------------+-----+\n",
      "|closest_POIID|count|\n",
      "+-------------+-----+\n",
      "|         POI4|  484|\n",
      "|         POI1| 9698|\n",
      "|         POI3| 9817|\n",
      "+-------------+-----+\n",
      "\n"
     ]
    }
   ],
   "source": [
    "clean_df.groupBy('closest_POIID').count().show(3)"
   ]
  },
  {
   "cell_type": "markdown",
   "metadata": {},
   "source": [
    "### 3.a Get stats for each POI"
   ]
  },
  {
   "cell_type": "code",
   "execution_count": 72,
   "metadata": {},
   "outputs": [],
   "source": [
    "stats=clean_df.groupBy('closest_POIID').agg(F.avg(col('distance')).alias('dis_avg'),\\\n",
    "                                          F.stddev(col('distance')).alias('dis_std'),\\\n",
    "                                                   F.max(col('distance')).alias('radius'),\\\n",
    "                                            F.count(col('distance')).alias('no_request'))"
   ]
  },
  {
   "cell_type": "code",
   "execution_count": 73,
   "metadata": {},
   "outputs": [
    {
     "name": "stdout",
     "output_type": "stream",
     "text": [
      "+-------------+-----------------+------------------+------------------+----------+\n",
      "|closest_POIID|          dis_avg|           dis_std|            radius|no_request|\n",
      "+-------------+-----------------+------------------+------------------+----------+\n",
      "|         POI4|8.810410862715697|28.675130269811007| 192.7049913074258|       484|\n",
      "|         POI1|3.348183006325603|3.8584895715706775|24.851937229893878|      9698|\n",
      "|         POI3|5.537950830488868|2.8586897295404903|20.155377791591437|      9817|\n",
      "+-------------+-----------------+------------------+------------------+----------+\n",
      "\n"
     ]
    }
   ],
   "source": [
    "stats.show(4)"
   ]
  },
  {
   "cell_type": "code",
   "execution_count": 74,
   "metadata": {},
   "outputs": [],
   "source": [
    "cstats=pd.DataFrame(stats.collect(),columns=['closest_POIID','dis_avg','is_std','radius','no_request'])"
   ]
  },
  {
   "cell_type": "code",
   "execution_count": 78,
   "metadata": {},
   "outputs": [],
   "source": [
    "cstats['density']=cstats.apply(lambda x: x['no_request']/(3.14*x['radius']*x['radius']),axis=1)"
   ]
  },
  {
   "cell_type": "code",
   "execution_count": 79,
   "metadata": {},
   "outputs": [
    {
     "data": {
      "text/html": [
       "<div>\n",
       "<style scoped>\n",
       "    .dataframe tbody tr th:only-of-type {\n",
       "        vertical-align: middle;\n",
       "    }\n",
       "\n",
       "    .dataframe tbody tr th {\n",
       "        vertical-align: top;\n",
       "    }\n",
       "\n",
       "    .dataframe thead th {\n",
       "        text-align: right;\n",
       "    }\n",
       "</style>\n",
       "<table border=\"1\" class=\"dataframe\">\n",
       "  <thead>\n",
       "    <tr style=\"text-align: right;\">\n",
       "      <th></th>\n",
       "      <th>closest_POIID</th>\n",
       "      <th>dis_avg</th>\n",
       "      <th>is_std</th>\n",
       "      <th>radius</th>\n",
       "      <th>no_request</th>\n",
       "      <th>density</th>\n",
       "    </tr>\n",
       "  </thead>\n",
       "  <tbody>\n",
       "    <tr>\n",
       "      <th>0</th>\n",
       "      <td>POI4</td>\n",
       "      <td>8.810411</td>\n",
       "      <td>28.67513</td>\n",
       "      <td>192.704991</td>\n",
       "      <td>484</td>\n",
       "      <td>0.004151</td>\n",
       "    </tr>\n",
       "    <tr>\n",
       "      <th>1</th>\n",
       "      <td>POI1</td>\n",
       "      <td>3.348183</td>\n",
       "      <td>3.85849</td>\n",
       "      <td>24.851937</td>\n",
       "      <td>9698</td>\n",
       "      <td>5.000714</td>\n",
       "    </tr>\n",
       "    <tr>\n",
       "      <th>2</th>\n",
       "      <td>POI3</td>\n",
       "      <td>5.537951</td>\n",
       "      <td>2.85869</td>\n",
       "      <td>20.155378</td>\n",
       "      <td>9817</td>\n",
       "      <td>7.696039</td>\n",
       "    </tr>\n",
       "  </tbody>\n",
       "</table>\n",
       "</div>"
      ],
      "text/plain": [
       "  closest_POIID   dis_avg    is_std      radius  no_request   density\n",
       "0          POI4  8.810411  28.67513  192.704991         484  0.004151\n",
       "1          POI1  3.348183   3.85849   24.851937        9698  5.000714\n",
       "2          POI3  5.537951   2.85869   20.155378        9817  7.696039"
      ]
     },
     "execution_count": 79,
     "metadata": {},
     "output_type": "execute_result"
    }
   ],
   "source": [
    "cstats.head(3)"
   ]
  },
  {
   "cell_type": "code",
   "execution_count": 57,
   "metadata": {},
   "outputs": [],
   "source": [
    "cdat=clean_df.select(['_ID','Latitude','Longitude','distance','closest_POIID']).collect()"
   ]
  },
  {
   "cell_type": "code",
   "execution_count": 58,
   "metadata": {},
   "outputs": [],
   "source": [
    "cdat_df=pd.DataFrame(cdat,columns=['_ID','Latitude','Longitude','distance','closest_POIID'])"
   ]
  },
  {
   "cell_type": "code",
   "execution_count": 59,
   "metadata": {},
   "outputs": [
    {
     "data": {
      "text/html": [
       "<div>\n",
       "<style scoped>\n",
       "    .dataframe tbody tr th:only-of-type {\n",
       "        vertical-align: middle;\n",
       "    }\n",
       "\n",
       "    .dataframe tbody tr th {\n",
       "        vertical-align: top;\n",
       "    }\n",
       "\n",
       "    .dataframe thead th {\n",
       "        text-align: right;\n",
       "    }\n",
       "</style>\n",
       "<table border=\"1\" class=\"dataframe\">\n",
       "  <thead>\n",
       "    <tr style=\"text-align: right;\">\n",
       "      <th></th>\n",
       "      <th>_ID</th>\n",
       "      <th>Latitude</th>\n",
       "      <th>Longitude</th>\n",
       "      <th>distance</th>\n",
       "      <th>closest_POIID</th>\n",
       "    </tr>\n",
       "  </thead>\n",
       "  <tbody>\n",
       "    <tr>\n",
       "      <th>0</th>\n",
       "      <td>4518918</td>\n",
       "      <td>42.93990</td>\n",
       "      <td>-81.27090</td>\n",
       "      <td>8.125912</td>\n",
       "      <td>POI3</td>\n",
       "    </tr>\n",
       "    <tr>\n",
       "      <th>1</th>\n",
       "      <td>4535779</td>\n",
       "      <td>45.50470</td>\n",
       "      <td>-73.55580</td>\n",
       "      <td>0.019777</td>\n",
       "      <td>POI3</td>\n",
       "    </tr>\n",
       "    <tr>\n",
       "      <th>2</th>\n",
       "      <td>4547425</td>\n",
       "      <td>43.57760</td>\n",
       "      <td>-80.22010</td>\n",
       "      <td>6.932242</td>\n",
       "      <td>POI3</td>\n",
       "    </tr>\n",
       "    <tr>\n",
       "      <th>3</th>\n",
       "      <td>4561012</td>\n",
       "      <td>48.37380</td>\n",
       "      <td>-89.27790</td>\n",
       "      <td>15.968655</td>\n",
       "      <td>POI3</td>\n",
       "    </tr>\n",
       "    <tr>\n",
       "      <th>4</th>\n",
       "      <td>4576329</td>\n",
       "      <td>42.28250</td>\n",
       "      <td>-83.03720</td>\n",
       "      <td>10.009752</td>\n",
       "      <td>POI3</td>\n",
       "    </tr>\n",
       "    <tr>\n",
       "      <th>5</th>\n",
       "      <td>4578136</td>\n",
       "      <td>53.40440</td>\n",
       "      <td>-113.52370</td>\n",
       "      <td>0.146763</td>\n",
       "      <td>POI1</td>\n",
       "    </tr>\n",
       "    <tr>\n",
       "      <th>6</th>\n",
       "      <td>4617922</td>\n",
       "      <td>45.57710</td>\n",
       "      <td>-73.68730</td>\n",
       "      <td>0.133360</td>\n",
       "      <td>POI3</td>\n",
       "    </tr>\n",
       "    <tr>\n",
       "      <th>7</th>\n",
       "      <td>4618117</td>\n",
       "      <td>53.55000</td>\n",
       "      <td>-113.13330</td>\n",
       "      <td>0.352455</td>\n",
       "      <td>POI1</td>\n",
       "    </tr>\n",
       "    <tr>\n",
       "      <th>8</th>\n",
       "      <td>4630340</td>\n",
       "      <td>51.04938</td>\n",
       "      <td>-113.94482</td>\n",
       "      <td>2.538642</td>\n",
       "      <td>POI1</td>\n",
       "    </tr>\n",
       "    <tr>\n",
       "      <th>9</th>\n",
       "      <td>4638863</td>\n",
       "      <td>43.64140</td>\n",
       "      <td>-79.41510</td>\n",
       "      <td>6.143855</td>\n",
       "      <td>POI3</td>\n",
       "    </tr>\n",
       "  </tbody>\n",
       "</table>\n",
       "</div>"
      ],
      "text/plain": [
       "       _ID  Latitude  Longitude   distance closest_POIID\n",
       "0  4518918  42.93990  -81.27090   8.125912          POI3\n",
       "1  4535779  45.50470  -73.55580   0.019777          POI3\n",
       "2  4547425  43.57760  -80.22010   6.932242          POI3\n",
       "3  4561012  48.37380  -89.27790  15.968655          POI3\n",
       "4  4576329  42.28250  -83.03720  10.009752          POI3\n",
       "5  4578136  53.40440 -113.52370   0.146763          POI1\n",
       "6  4617922  45.57710  -73.68730   0.133360          POI3\n",
       "7  4618117  53.55000 -113.13330   0.352455          POI1\n",
       "8  4630340  51.04938 -113.94482   2.538642          POI1\n",
       "9  4638863  43.64140  -79.41510   6.143855          POI3"
      ]
     },
     "execution_count": 59,
     "metadata": {},
     "output_type": "execute_result"
    }
   ],
   "source": [
    "cdat_df.head(10)"
   ]
  },
  {
   "cell_type": "code",
   "execution_count": 81,
   "metadata": {},
   "outputs": [],
   "source": [
    "lim=cdat_df[['Latitude','Longitude']].describe()"
   ]
  },
  {
   "cell_type": "code",
   "execution_count": 82,
   "metadata": {},
   "outputs": [
    {
     "name": "stdout",
     "output_type": "stream",
     "text": [
      "           Latitude     Longitude\n",
      "count  19999.000000  19999.000000\n",
      "mean      47.984205    -95.007724\n",
      "std        4.154438     19.033530\n",
      "min        6.927420   -136.539570\n",
      "25%       43.747600   -113.817815\n",
      "50%       48.151600    -83.018200\n",
      "75%       51.127250    -79.399100\n",
      "max       62.827300    125.702200\n"
     ]
    }
   ],
   "source": [
    "print(lim)"
   ]
  },
  {
   "cell_type": "code",
   "execution_count": 84,
   "metadata": {},
   "outputs": [
    {
     "name": "stdout",
     "output_type": "stream",
     "text": [
      "62.8273\n"
     ]
    }
   ],
   "source": [
    "print(lim.loc['max']['Latitude'])"
   ]
  },
  {
   "cell_type": "code",
   "execution_count": 162,
   "metadata": {},
   "outputs": [],
   "source": [
    "import matplotlib\n",
    "import matplotlib.pyplot as pplt\n",
    "from IPython.display import display\n",
    "%matplotlib inline "
   ]
  },
  {
   "cell_type": "code",
   "execution_count": 163,
   "metadata": {},
   "outputs": [
    {
     "data": {
      "image/png": "[encoded data removed]",
      "text/plain": [
       "<Figure size 1296x864 with 1 Axes>"
      ]
     },
     "metadata": {
      "needs_background": "light"
     },
     "output_type": "display_data"
    }
   ],
   "source": [
    "pplt.figure(figsize=(18,12))\n",
    "pplt.plot(cdat_df['Latitude'],cdat_df['Longitude'],'bo')\n",
    "pplt.show()"
   ]
  },
  {
   "cell_type": "code",
   "execution_count": 112,
   "metadata": {},
   "outputs": [
    {
     "data": {
      "text/html": [
       "<div>\n",
       "<style scoped>\n",
       "    .dataframe tbody tr th:only-of-type {\n",
       "        vertical-align: middle;\n",
       "    }\n",
       "\n",
       "    .dataframe tbody tr th {\n",
       "        vertical-align: top;\n",
       "    }\n",
       "\n",
       "    .dataframe thead th {\n",
       "        text-align: right;\n",
       "    }\n",
       "</style>\n",
       "<table border=\"1\" class=\"dataframe\">\n",
       "  <thead>\n",
       "    <tr style=\"text-align: right;\">\n",
       "      <th></th>\n",
       "      <th>closest_POIID</th>\n",
       "      <th>dis_avg</th>\n",
       "      <th>is_std</th>\n",
       "      <th>radius</th>\n",
       "      <th>no_request</th>\n",
       "      <th>density</th>\n",
       "    </tr>\n",
       "  </thead>\n",
       "  <tbody>\n",
       "    <tr>\n",
       "      <th>0</th>\n",
       "      <td>POI4</td>\n",
       "      <td>8.810411</td>\n",
       "      <td>28.67513</td>\n",
       "      <td>192.704991</td>\n",
       "      <td>484</td>\n",
       "      <td>0.004151</td>\n",
       "    </tr>\n",
       "    <tr>\n",
       "      <th>1</th>\n",
       "      <td>POI1</td>\n",
       "      <td>3.348183</td>\n",
       "      <td>3.85849</td>\n",
       "      <td>24.851937</td>\n",
       "      <td>9698</td>\n",
       "      <td>5.000714</td>\n",
       "    </tr>\n",
       "    <tr>\n",
       "      <th>2</th>\n",
       "      <td>POI3</td>\n",
       "      <td>5.537951</td>\n",
       "      <td>2.85869</td>\n",
       "      <td>20.155378</td>\n",
       "      <td>9817</td>\n",
       "      <td>7.696039</td>\n",
       "    </tr>\n",
       "  </tbody>\n",
       "</table>\n",
       "</div>"
      ],
      "text/plain": [
       "  closest_POIID   dis_avg    is_std      radius  no_request   density\n",
       "0          POI4  8.810411  28.67513  192.704991         484  0.004151\n",
       "1          POI1  3.348183   3.85849   24.851937        9698  5.000714\n",
       "2          POI3  5.537951   2.85869   20.155378        9817  7.696039"
      ]
     },
     "execution_count": 112,
     "metadata": {},
     "output_type": "execute_result"
    }
   ],
   "source": [
    "cstats.head(3)"
   ]
  },
  {
   "cell_type": "code",
   "execution_count": 122,
   "metadata": {},
   "outputs": [
    {
     "data": {
      "text/html": [
       "<div>\n",
       "<style scoped>\n",
       "    .dataframe tbody tr th:only-of-type {\n",
       "        vertical-align: middle;\n",
       "    }\n",
       "\n",
       "    .dataframe tbody tr th {\n",
       "        vertical-align: top;\n",
       "    }\n",
       "\n",
       "    .dataframe thead th {\n",
       "        text-align: right;\n",
       "    }\n",
       "</style>\n",
       "<table border=\"1\" class=\"dataframe\">\n",
       "  <thead>\n",
       "    <tr style=\"text-align: right;\">\n",
       "      <th></th>\n",
       "      <th>POIID</th>\n",
       "      <th>Latitude</th>\n",
       "      <th>Longitude</th>\n",
       "      <th>color</th>\n",
       "    </tr>\n",
       "  </thead>\n",
       "  <tbody>\n",
       "    <tr>\n",
       "      <th>0</th>\n",
       "      <td>POI1</td>\n",
       "      <td>53.546167</td>\n",
       "      <td>-113.485734</td>\n",
       "      <td>y</td>\n",
       "    </tr>\n",
       "    <tr>\n",
       "      <th>1</th>\n",
       "      <td>POI3</td>\n",
       "      <td>45.521629</td>\n",
       "      <td>-73.566024</td>\n",
       "      <td>c</td>\n",
       "    </tr>\n",
       "    <tr>\n",
       "      <th>2</th>\n",
       "      <td>POI4</td>\n",
       "      <td>45.224830</td>\n",
       "      <td>-63.232729</td>\n",
       "      <td>m</td>\n",
       "    </tr>\n",
       "  </tbody>\n",
       "</table>\n",
       "</div>"
      ],
      "text/plain": [
       "  POIID   Latitude   Longitude color\n",
       "0  POI1  53.546167 -113.485734     y\n",
       "1  POI3  45.521629  -73.566024     c\n",
       "2  POI4  45.224830  -63.232729     m"
      ]
     },
     "execution_count": 122,
     "metadata": {},
     "output_type": "execute_result"
    }
   ],
   "source": [
    "poi_df_pandas.head(4)"
   ]
  },
  {
   "cell_type": "code",
   "execution_count": 120,
   "metadata": {},
   "outputs": [],
   "source": [
    "poi_df_pandas['color']=['y','c','m']"
   ]
  },
  {
   "cell_type": "code",
   "execution_count": 110,
   "metadata": {},
   "outputs": [],
   "source": [
    "from pylab import rcParams\n",
    "rcParams['figure.figsize'] = 20, 15"
   ]
  },
  {
   "cell_type": "code",
   "execution_count": 106,
   "metadata": {},
   "outputs": [
    {
     "data": {
      "text/plain": [
       "0    53.546167\n",
       "Name: Latitude, dtype: float64"
      ]
     },
     "execution_count": 106,
     "metadata": {},
     "output_type": "execute_result"
    }
   ],
   "source": [
    "poi_df_pandas.loc[poi_df_pandas['POIID']=='POI1']['Latitude']"
   ]
  },
  {
   "cell_type": "code",
   "execution_count": 124,
   "metadata": {},
   "outputs": [
    {
     "data": {
      "image/png": "[encoded data removed]",
      "text/plain": [
       "<Figure size 1440x1080 with 1 Axes>"
      ]
     },
     "metadata": {
      "needs_background": "light"
     },
     "output_type": "display_data"
    }
   ],
   "source": [
    "groups=cdat_df.groupby('closest_POIID')\n",
    "fig, ax = plt.subplots()\n",
    "ax.xlim=(lim.loc['min']['Latitude'],lim.loc['max']['Latitude'])\n",
    "ax.xlim=(lim.loc['min']['Longitude'],lim.loc['max']['Longitude'])\n",
    "#ax.margins(0.05)\n",
    "for name, group in groups:\n",
    "    #print(name)\n",
    "    ax.plot(group.Latitude, group.Longitude,\\\n",
    "            #color=poi_df_pandas.loc[poi_df_pandas['POIID']==name]['color'],\\\n",
    "            marker='o', linestyle='', ms=12, label=name)\n",
    "    ax.legend()\n",
    "    ax.plot(poi_df_pandas.loc[poi_df_pandas['POIID']==name]['Latitude'],\\\n",
    "                poi_df_pandas.loc[poi_df_pandas['POIID']==name]['Longitude'],marker='x')\n",
    "    ax.annotate(name,(poi_df_pandas.loc[poi_df_pandas['POIID']==name]['Latitude'],\\\n",
    "                poi_df_pandas.loc[poi_df_pandas['POIID']==name]['Longitude']))\n",
    "    circle = plt.Circle((poi_df_pandas.loc[poi_df_pandas['POIID']==name]['Latitude'],\\\n",
    "                         poi_df_pandas.loc[poi_df_pandas['POIID']==name]['Longitude']),\\\n",
    "                       cstats.loc[cstats['closest_POIID']==name]['radius'],fill=False,\n",
    "                       # color=poi_df_pandas.loc[poi_df_pandas['POIID']==name]['color']\n",
    "                       )\n",
    "    ax.add_artist(circle)\n",
    "    \n",
    "plt.show()"
   ]
  },
  {
   "cell_type": "markdown",
   "metadata": {},
   "source": [
    "# 4.a.1 Visualize"
   ]
  },
  {
   "cell_type": "code",
   "execution_count": null,
   "metadata": {},
   "outputs": [],
   "source": [
    "# As we want to be sensitive around the average and maximize the differentiability, \\\n",
    "# we want to be able to focus on displaying data within a certain range of quantiles, and then use a linear mapping\n",
    "# to map data within the chosen quantile range in to the desired range (-10,10), a linear mapping is a good choice\n",
    "# as it preserves Euclidean distance between points, which is the original metric used to group points closest to a certain POIID.\n",
    "# Suppose we pick (5%,95%) quantile range to map. Both X and Y need to use the same mapping to preserve distance relationship"
   ]
  },
  {
   "cell_type": "code",
   "execution_count": 147,
   "metadata": {},
   "outputs": [],
   "source": [
    "quantiles = cdat_df[['closest_POIID','Latitude','Longitude']].groupby('closest_POIID').quantile([0.05,0.95])"
   ]
  },
  {
   "cell_type": "code",
   "execution_count": 148,
   "metadata": {},
   "outputs": [
    {
     "data": {
      "text/html": [
       "<div>\n",
       "<style scoped>\n",
       "    .dataframe tbody tr th:only-of-type {\n",
       "        vertical-align: middle;\n",
       "    }\n",
       "\n",
       "    .dataframe tbody tr th {\n",
       "        vertical-align: top;\n",
       "    }\n",
       "\n",
       "    .dataframe thead th {\n",
       "        text-align: right;\n",
       "    }\n",
       "</style>\n",
       "<table border=\"1\" class=\"dataframe\">\n",
       "  <thead>\n",
       "    <tr style=\"text-align: right;\">\n",
       "      <th></th>\n",
       "      <th></th>\n",
       "      <th>Latitude</th>\n",
       "      <th>Longitude</th>\n",
       "    </tr>\n",
       "    <tr>\n",
       "      <th>closest_POIID</th>\n",
       "      <th></th>\n",
       "      <th></th>\n",
       "      <th></th>\n",
       "    </tr>\n",
       "  </thead>\n",
       "  <tbody>\n",
       "    <tr>\n",
       "      <th rowspan=\"2\" valign=\"top\">POI1</th>\n",
       "      <th>0.05</th>\n",
       "      <td>49.253668</td>\n",
       "      <td>-122.906000</td>\n",
       "    </tr>\n",
       "    <tr>\n",
       "      <th>0.95</th>\n",
       "      <td>53.629900</td>\n",
       "      <td>-105.703553</td>\n",
       "    </tr>\n",
       "    <tr>\n",
       "      <th rowspan=\"2\" valign=\"top\">POI3</th>\n",
       "      <th>0.05</th>\n",
       "      <td>43.034600</td>\n",
       "      <td>-81.323900</td>\n",
       "    </tr>\n",
       "    <tr>\n",
       "      <th>0.95</th>\n",
       "      <td>46.511900</td>\n",
       "      <td>-73.556440</td>\n",
       "    </tr>\n",
       "    <tr>\n",
       "      <th rowspan=\"2\" valign=\"top\">POI4</th>\n",
       "      <th>0.05</th>\n",
       "      <td>44.615250</td>\n",
       "      <td>-66.655800</td>\n",
       "    </tr>\n",
       "    <tr>\n",
       "      <th>0.95</th>\n",
       "      <td>47.651715</td>\n",
       "      <td>-52.656600</td>\n",
       "    </tr>\n",
       "  </tbody>\n",
       "</table>\n",
       "</div>"
      ],
      "text/plain": [
       "                     Latitude   Longitude\n",
       "closest_POIID                            \n",
       "POI1          0.05  49.253668 -122.906000\n",
       "              0.95  53.629900 -105.703553\n",
       "POI3          0.05  43.034600  -81.323900\n",
       "              0.95  46.511900  -73.556440\n",
       "POI4          0.05  44.615250  -66.655800\n",
       "              0.95  47.651715  -52.656600"
      ]
     },
     "execution_count": 148,
     "metadata": {},
     "output_type": "execute_result"
    }
   ],
   "source": [
    "quantiles.head(6)"
   ]
  },
  {
   "cell_type": "code",
   "execution_count": 177,
   "metadata": {},
   "outputs": [],
   "source": [
    "quantiles = cdat_df[['distance','closest_POIID']].groupby('closest_POIID').quantile([0.95])"
   ]
  },
  {
   "cell_type": "code",
   "execution_count": 178,
   "metadata": {},
   "outputs": [
    {
     "data": {
      "text/html": [
       "<div>\n",
       "<style scoped>\n",
       "    .dataframe tbody tr th:only-of-type {\n",
       "        vertical-align: middle;\n",
       "    }\n",
       "\n",
       "    .dataframe tbody tr th {\n",
       "        vertical-align: top;\n",
       "    }\n",
       "\n",
       "    .dataframe thead th {\n",
       "        text-align: right;\n",
       "    }\n",
       "</style>\n",
       "<table border=\"1\" class=\"dataframe\">\n",
       "  <thead>\n",
       "    <tr style=\"text-align: right;\">\n",
       "      <th></th>\n",
       "      <th></th>\n",
       "      <th>distance</th>\n",
       "    </tr>\n",
       "    <tr>\n",
       "      <th>closest_POIID</th>\n",
       "      <th></th>\n",
       "      <th></th>\n",
       "    </tr>\n",
       "  </thead>\n",
       "  <tbody>\n",
       "    <tr>\n",
       "      <th>POI1</th>\n",
       "      <th>0.95</th>\n",
       "      <td>10.595565</td>\n",
       "    </tr>\n",
       "    <tr>\n",
       "      <th>POI3</th>\n",
       "      <th>0.95</th>\n",
       "      <td>8.172087</td>\n",
       "    </tr>\n",
       "    <tr>\n",
       "      <th>POI4</th>\n",
       "      <th>0.95</th>\n",
       "      <td>10.821120</td>\n",
       "    </tr>\n",
       "  </tbody>\n",
       "</table>\n",
       "</div>"
      ],
      "text/plain": [
       "                     distance\n",
       "closest_POIID                \n",
       "POI1          0.95  10.595565\n",
       "POI3          0.95   8.172087\n",
       "POI4          0.95  10.821120"
      ]
     },
     "execution_count": 178,
     "metadata": {},
     "output_type": "execute_result"
    }
   ],
   "source": [
    "quantiles.head(6)"
   ]
  },
  {
   "cell_type": "code",
   "execution_count": 141,
   "metadata": {},
   "outputs": [
    {
     "data": {
      "text/html": [
       "<div>\n",
       "<style scoped>\n",
       "    .dataframe tbody tr th:only-of-type {\n",
       "        vertical-align: middle;\n",
       "    }\n",
       "\n",
       "    .dataframe tbody tr th {\n",
       "        vertical-align: top;\n",
       "    }\n",
       "\n",
       "    .dataframe thead th {\n",
       "        text-align: right;\n",
       "    }\n",
       "</style>\n",
       "<table border=\"1\" class=\"dataframe\">\n",
       "  <thead>\n",
       "    <tr style=\"text-align: right;\">\n",
       "      <th></th>\n",
       "      <th>_ID</th>\n",
       "      <th>Latitude</th>\n",
       "      <th>Longitude</th>\n",
       "      <th>distance</th>\n",
       "      <th>closest_POIID</th>\n",
       "    </tr>\n",
       "  </thead>\n",
       "  <tbody>\n",
       "    <tr>\n",
       "      <th>0</th>\n",
       "      <td>4518918</td>\n",
       "      <td>42.9399</td>\n",
       "      <td>-81.2709</td>\n",
       "      <td>8.125912</td>\n",
       "      <td>POI3</td>\n",
       "    </tr>\n",
       "    <tr>\n",
       "      <th>1</th>\n",
       "      <td>4535779</td>\n",
       "      <td>45.5047</td>\n",
       "      <td>-73.5558</td>\n",
       "      <td>0.019777</td>\n",
       "      <td>POI3</td>\n",
       "    </tr>\n",
       "    <tr>\n",
       "      <th>2</th>\n",
       "      <td>4547425</td>\n",
       "      <td>43.5776</td>\n",
       "      <td>-80.2201</td>\n",
       "      <td>6.932242</td>\n",
       "      <td>POI3</td>\n",
       "    </tr>\n",
       "    <tr>\n",
       "      <th>3</th>\n",
       "      <td>4561012</td>\n",
       "      <td>48.3738</td>\n",
       "      <td>-89.2779</td>\n",
       "      <td>15.968655</td>\n",
       "      <td>POI3</td>\n",
       "    </tr>\n",
       "  </tbody>\n",
       "</table>\n",
       "</div>"
      ],
      "text/plain": [
       "       _ID  Latitude  Longitude   distance closest_POIID\n",
       "0  4518918   42.9399   -81.2709   8.125912          POI3\n",
       "1  4535779   45.5047   -73.5558   0.019777          POI3\n",
       "2  4547425   43.5776   -80.2201   6.932242          POI3\n",
       "3  4561012   48.3738   -89.2779  15.968655          POI3"
      ]
     },
     "execution_count": 141,
     "metadata": {},
     "output_type": "execute_result"
    }
   ],
   "source": [
    "cdat_df.head(4)"
   ]
  },
  {
   "cell_type": "code",
   "execution_count": 174,
   "metadata": {},
   "outputs": [],
   "source": [
    "p1_cdat_df=cdat_df.loc[cdat_df['closest_POIID']=='POI1']\n",
    "p1_cdat_df=p1_cdat_df.loc[p1_cdat_df['distance'] < 10.595565]"
   ]
  },
  {
   "cell_type": "markdown",
   "metadata": {},
   "source": [
    "# Visualize points within 95% quantile of distance from POI, ignoring those points outside of 95 pct quantile"
   ]
  },
  {
   "cell_type": "code",
   "execution_count": 155,
   "metadata": {},
   "outputs": [
    {
     "data": {
      "text/plain": [
       "(8081, 5)"
      ]
     },
     "execution_count": 155,
     "metadata": {},
     "output_type": "execute_result"
    }
   ],
   "source": [
    "p1_cdat_df.shape"
   ]
  },
  {
   "cell_type": "code",
   "execution_count": 176,
   "metadata": {},
   "outputs": [
    {
     "data": {
      "image/png": "[encoded data removed]",
      "text/plain": [
       "<Figure size 1008x648 with 1 Axes>"
      ]
     },
     "metadata": {
      "needs_background": "light"
     },
     "output_type": "display_data"
    }
   ],
   "source": [
    "pplt.figure(figsize=(14,9))\n",
    "pplt.plot(p1_cdat_df['Latitude'],p1_cdat_df['Longitude'],\\\n",
    "            marker='o', linestyle='', ms=6, label=name)\n",
    "pplt.plot(poi_df_pandas.loc[poi_df_pandas['POIID']=='POI1']['Latitude'],\\\n",
    "                poi_df_pandas.loc[poi_df_pandas['POIID']=='POI1']['Longitude'],marker='x')\n",
    "pplt.annotate('POI1',(poi_df_pandas.loc[poi_df_pandas['POIID']=='POI1']['Latitude'],\\\n",
    "                poi_df_pandas.loc[poi_df_pandas['POIID']=='POI1']['Longitude']))\n",
    "pplt.show()"
   ]
  },
  {
   "cell_type": "code",
   "execution_count": 182,
   "metadata": {},
   "outputs": [],
   "source": [
    "p3_cdat_df=cdat_df.loc[cdat_df['closest_POIID']=='POI3']\n",
    "p3_cdat_df=p3_cdat_df.loc[p3_cdat_df['distance'] < 8.172087]"
   ]
  },
  {
   "cell_type": "code",
   "execution_count": 184,
   "metadata": {},
   "outputs": [
    {
     "data": {
      "image/png": "[encoded data removed]",
      "text/plain": [
       "<Figure size 1008x648 with 1 Axes>"
      ]
     },
     "metadata": {
      "needs_background": "light"
     },
     "output_type": "display_data"
    }
   ],
   "source": [
    "pplt.figure(figsize=(14,9))\n",
    "pplt.plot(p3_cdat_df['Latitude'],p3_cdat_df['Longitude'],\\\n",
    "            marker='o', linestyle='', ms=6, label=name)\n",
    "pplt.plot(poi_df_pandas.loc[poi_df_pandas['POIID']=='POI3']['Latitude'],\\\n",
    "                poi_df_pandas.loc[poi_df_pandas['POIID']=='POI3']['Longitude'],marker='x')\n",
    "pplt.annotate('POI3',(poi_df_pandas.loc[poi_df_pandas['POIID']=='POI3']['Latitude'],\\\n",
    "                poi_df_pandas.loc[poi_df_pandas['POIID']=='POI3']['Longitude']))\n",
    "pplt.show()"
   ]
  },
  {
   "cell_type": "code",
   "execution_count": 186,
   "metadata": {},
   "outputs": [],
   "source": [
    "p4_cdat_df=cdat_df.loc[cdat_df['closest_POIID']=='POI4']\n",
    "p4_cdat_df=p4_cdat_df.loc[p4_cdat_df['distance'] < 10.821120]"
   ]
  },
  {
   "cell_type": "code",
   "execution_count": 188,
   "metadata": {},
   "outputs": [
    {
     "data": {
      "image/png": "[encoded data removed]",
      "text/plain": [
       "<Figure size 1008x648 with 1 Axes>"
      ]
     },
     "metadata": {
      "needs_background": "light"
     },
     "output_type": "display_data"
    }
   ],
   "source": [
    "pplt.figure(figsize=(14,9))\n",
    "pplt.plot(p4_cdat_df['Latitude'],p4_cdat_df['Longitude'],\\\n",
    "            marker='o', linestyle='', ms=6, label=name)\n",
    "pplt.plot(poi_df_pandas.loc[poi_df_pandas['POIID']=='POI4']['Latitude'],\\\n",
    "                poi_df_pandas.loc[poi_df_pandas['POIID']=='POI4']['Longitude'],marker='x')\n",
    "pplt.annotate('POI4',(poi_df_pandas.loc[poi_df_pandas['POIID']=='POI4']['Latitude'],\\\n",
    "                poi_df_pandas.loc[poi_df_pandas['POIID']=='POI4']['Longitude']))\n",
    "pplt.show()"
   ]
  },
  {
   "cell_type": "markdown",
   "metadata": {},
   "source": [
    "# 4a.2 Hypothesis about each POI-centered cloud of data"
   ]
  },
  {
   "cell_type": "code",
   "execution_count": null,
   "metadata": {},
   "outputs": [],
   "source": []
  },
  {
   "cell_type": "code",
   "execution_count": null,
   "metadata": {},
   "outputs": [],
   "source": []
  },
  {
   "cell_type": "markdown",
   "metadata": {},
   "source": [
    "# 4b - Engineering"
   ]
  },
  {
   "cell_type": "code",
   "execution_count": 201,
   "metadata": {},
   "outputs": [],
   "source": [
    "nodes=list()\n",
    "with open('task_ids.txt','r') as f:\n",
    "    line=f.readlines()\n",
    "f.close()"
   ]
  },
  {
   "cell_type": "code",
   "execution_count": 202,
   "metadata": {},
   "outputs": [
    {
     "name": "stdout",
     "output_type": "stream",
     "text": [
      "['97,75,100,102,16,39,41,62,112,20,21,73,56,55,36,37,94,31\\n']\n"
     ]
    }
   ],
   "source": [
    "print(line)"
   ]
  },
  {
   "cell_type": "code",
   "execution_count": 205,
   "metadata": {},
   "outputs": [],
   "source": [
    "ids=line[0].strip().replace('\\n','').split(',')\n",
    "for i in ids:\n",
    "    nodes.append(i)"
   ]
  },
  {
   "cell_type": "code",
   "execution_count": 206,
   "metadata": {},
   "outputs": [
    {
     "name": "stdout",
     "output_type": "stream",
     "text": [
      "['97', '75', '100', '102', '16', '39', '41', '62', '112', '20', '21', '73', '56', '55', '36', '37', '94', '31']\n"
     ]
    }
   ],
   "source": [
    "print(nodes)"
   ]
  },
  {
   "cell_type": "code",
   "execution_count": 308,
   "metadata": {},
   "outputs": [],
   "source": [
    "forward_dict=dict()\n",
    "backward_dict=dict()"
   ]
  },
  {
   "cell_type": "code",
   "execution_count": 309,
   "metadata": {},
   "outputs": [],
   "source": [
    "with open('relations.txt','r') as f:\n",
    "    lines=f.readlines()\n",
    "f.close()\n",
    "for l in lines:\n",
    "    tmp=l.strip().replace('\\n','').split('->')\n",
    "    #print(tmp)\n",
    "    if len(tmp)==2:\n",
    "        if tmp[0] not in forward_dict.keys():\n",
    "            forward_dict[tmp[0]]=[tmp[1]]\n",
    "        else:\n",
    "            ltmp=forward_dict[tmp[0]]\n",
    "            ltmp.append(tmp[1])\n",
    "            forward_dict[tmp[0]]=ltmp\n",
    "        if tmp[1] not in backward_dict.keys():\n",
    "            backward_dict[tmp[1]]=[tmp[0]]\n",
    "        else:\n",
    "            ltmp=backward_dict[tmp[1]]\n",
    "            ltmp.append(tmp[0])\n",
    "            backward_dict[tmp[1]]=ltmp\n",
    "# add null forward and backward\n",
    "for i in nodes:\n",
    "    if i not in forward_dict.keys():\n",
    "        forward_dict[i]=[]\n",
    "    if i not in backward_dict.keys():\n",
    "        backward_dict[i]=[]"
   ]
  },
  {
   "cell_type": "code",
   "execution_count": 310,
   "metadata": {},
   "outputs": [
    {
     "name": "stdout",
     "output_type": "stream",
     "text": [
      "{'102': ['36', '37', '31'], '37': [], '62': ['55'], '73': ['20'], '41': ['73', '112'], '75': ['31', '37'], '31': [], '56': ['102', '75', '55'], '112': ['97'], '39': ['73', '100'], '55': ['31', '37'], '100': ['20'], '94': ['56', '102'], '16': ['37'], '20': ['94', '97'], '36': [], '97': ['102'], '21': ['20']}\n"
     ]
    }
   ],
   "source": [
    "print(forward_dict)"
   ]
  },
  {
   "cell_type": "code",
   "execution_count": 311,
   "metadata": {},
   "outputs": [
    {
     "name": "stdout",
     "output_type": "stream",
     "text": [
      "{'102': ['97', '56', '94'], '37': ['75', '102', '16', '55'], '55': ['62', '56'], '73': ['39', '41'], '41': [], '75': ['56'], '56': ['94'], '112': ['41'], '100': ['39'], '39': [], '62': [], '31': ['75', '102', '55'], '94': ['20'], '21': [], '20': ['100', '21', '73'], '36': ['102'], '97': ['112', '20'], '16': []}\n"
     ]
    }
   ],
   "source": [
    "print(backward_dict)"
   ]
  },
  {
   "cell_type": "code",
   "execution_count": 312,
   "metadata": {},
   "outputs": [
    {
     "name": "stdout",
     "output_type": "stream",
     "text": [
      "2\n",
      "0\n"
     ]
    }
   ],
   "source": [
    "print(len(backward_dict['55']))\n",
    "print(len(backward_dict['16']))"
   ]
  },
  {
   "cell_type": "raw",
   "metadata": {},
   "source": [
    "# required_tasks(start_task,end_task) = set of dependencies of (end_task) - (union( set of dependencies(start_task1) +  set of dependencies(start_task2)) and ordered in topological sorting\n"
   ]
  },
  {
   "cell_type": "code",
   "execution_count": 325,
   "metadata": {},
   "outputs": [],
   "source": [
    "#For a given task_id, get the set of required task to complete it\n",
    "def get_dep(task_id):\n",
    "    op = set([task_id])\n",
    "    if len(backward_dict[task_id])==0:\n",
    "        return set([task_id])\n",
    "    else:\n",
    "        dep=backward_dict[task_id]\n",
    "        #print(dep)\n",
    "        for i in dep:\n",
    "                op.add(i)\n",
    "                op = op | get_dep(i)\n",
    "        return op           "
   ]
  },
  {
   "cell_type": "code",
   "execution_count": 326,
   "metadata": {},
   "outputs": [
    {
     "name": "stdout",
     "output_type": "stream",
     "text": [
      "{'102', '37', '55', '73', '41', '100', '20', '16', '21', '62', '56', '112', '39', '94', '75', '97'}\n"
     ]
    }
   ],
   "source": [
    "test=get_dep('37')\n",
    "print(test)"
   ]
  },
  {
   "cell_type": "code",
   "execution_count": 327,
   "metadata": {},
   "outputs": [
    {
     "name": "stdout",
     "output_type": "stream",
     "text": [
      "{'21'}\n"
     ]
    }
   ],
   "source": [
    "print(get_dep('21'))"
   ]
  },
  {
   "cell_type": "code",
   "execution_count": 328,
   "metadata": {},
   "outputs": [
    {
     "name": "stdout",
     "output_type": "stream",
     "text": [
      "{'39', '73', '41'}\n"
     ]
    }
   ],
   "source": [
    "test2=get_dep('73')\n",
    "print(test2)"
   ]
  },
  {
   "cell_type": "code",
   "execution_count": 329,
   "metadata": {},
   "outputs": [
    {
     "name": "stdout",
     "output_type": "stream",
     "text": [
      "{'102', '37', '55', '100', '20', '16', '21', '62', '56', '112', '94', '75', '97'}\n"
     ]
    }
   ],
   "source": [
    "### Get the set of tasks required for task '37', except those completed by task 73.\n",
    "testdiff=test.difference(test2)\n",
    "print(testdiff)"
   ]
  },
  {
   "cell_type": "code",
   "execution_count": 314,
   "metadata": {},
   "outputs": [],
   "source": [
    "### Implement algo to ouput topological sorting\n",
    "def DFS():\n",
    "    topo_sort=[]\n",
    "    color_dict=dict()\n",
    "    def DFS_visit(i):\n",
    "        color_dict[i]='G'\n",
    "        for u in forward_dict[i]:\n",
    "            if color_dict[u]=='W':\n",
    "                DFS_visit(u)\n",
    "        color_dict[i]='B'\n",
    "        topo_sort.append(i)\n",
    "        return\n",
    "    for i in nodes:\n",
    "        color_dict[i]='W'\n",
    "    time=0\n",
    "    for i in nodes:\n",
    "        if color_dict[i]=='W':\n",
    "            DFS_visit(i)           \n",
    "    return topo_sort[::-1] "
   ]
  },
  {
   "cell_type": "code",
   "execution_count": 315,
   "metadata": {},
   "outputs": [],
   "source": [
    "tsort=DFS()"
   ]
  },
  {
   "cell_type": "code",
   "execution_count": 316,
   "metadata": {},
   "outputs": [
    {
     "name": "stdout",
     "output_type": "stream",
     "text": [
      "['21', '62', '41', '112', '39', '73', '16', '100', '20', '94', '56', '55', '75', '97', '102', '31', '37', '36']\n"
     ]
    }
   ],
   "source": [
    "print(tsort)"
   ]
  },
  {
   "cell_type": "code",
   "execution_count": 317,
   "metadata": {},
   "outputs": [],
   "source": [
    "###Output the required task\n",
    "def required_tasks(start,end):\n",
    "    end_tasks = get_dep(end)\n",
    "    start_tasks = get_dep(start)\n",
    "    required_tasks = end_tasks.difference(start_tasks)\n",
    "    #print(required_tasks)\n",
    "    op = list()\n",
    "    for i in tsort:\n",
    "        if i in required_tasks:\n",
    "            op.append(i)\n",
    "    return op"
   ]
  },
  {
   "cell_type": "code",
   "execution_count": 330,
   "metadata": {},
   "outputs": [
    {
     "name": "stdout",
     "output_type": "stream",
     "text": [
      "['21', '62', '112', '16', '100', '20', '94', '56', '55', '75', '97', '102', '37']\n"
     ]
    }
   ],
   "source": [
    "print(required_tasks('73','37'))"
   ]
  },
  {
   "cell_type": "code",
   "execution_count": 331,
   "metadata": {},
   "outputs": [
    {
     "name": "stdout",
     "output_type": "stream",
     "text": [
      "['62', '41', '112', '39', '73', '16', '100', '20', '94', '56', '55', '75', '97', '102', '37']\n"
     ]
    }
   ],
   "source": [
    "print(required_tasks('21','37'))"
   ]
  },
  {
   "cell_type": "code",
   "execution_count": null,
   "metadata": {},
   "outputs": [],
   "source": []
  }
 ],
 "metadata": {
  "kernelspec": {
   "display_name": "Python 3",
   "language": "python",
   "name": "python3"
  },
  "language_info": {
   "codemirror_mode": {
    "name": "ipython",
    "version": 3
   },
   "file_extension": ".py",
   "mimetype": "text/x-python",
   "name": "python",
   "nbconvert_exporter": "python",
   "pygments_lexer": "ipython3",
   "version": "3.5.2"
  }
 },
 "nbformat": 4,
 "nbformat_minor": 2
}
